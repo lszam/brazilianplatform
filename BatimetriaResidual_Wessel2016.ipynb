{
  "nbformat": 4,
  "nbformat_minor": 0,
  "metadata": {
    "colab": {
      "provenance": [],
      "collapsed_sections": [
        "v4CLkpWSCuHy"
      ],
      "authorship_tag": "ABX9TyMFwCYtza5zZDjrmRFmycQq",
      "include_colab_link": true
    },
    "kernelspec": {
      "name": "python3",
      "display_name": "Python 3"
    },
    "language_info": {
      "name": "python"
    }
  },
  "cells": [
    {
      "cell_type": "markdown",
      "metadata": {
        "id": "view-in-github",
        "colab_type": "text"
      },
      "source": [
        "<a href=\"https://colab.research.google.com/github/lszam/brazilianplatform/blob/main/BatimetriaResidual_Wessel2016.ipynb\" target=\"_parent\"><img src=\"https://colab.research.google.com/assets/colab-badge.svg\" alt=\"Open In Colab\"/></a>"
      ]
    },
    {
      "cell_type": "markdown",
      "source": [
        "# **Estudos da Plataforma Continental Brasileira - Colaboração Projeto LEPLAC**\n",
        "# Batimetria Residual - Método ORS\n",
        "O objetivo deste código é realizar a separação regional-residual em um grid batimétrico usando o método **Optimal Robust Separator (ORS)**.\n",
        "\n",
        "***Nesta versão, a entrada é feita por upload de um grid tipo Surfer da batimetria.***\n",
        "\n",
        "Referência: Wessel, P. (2016). Regional–residual separation of bathymetry and revised estimates of Hawaii plume flux. Geophysical Journal International, 204(2), 932-947. doi: 10.1093/gji/ggv472\n",
        "\n",
        "*Luizemara Szameitat 26/02/2025 - luizemara@gmail.com, luizemara@usp.br*\n",
        "\n"
      ],
      "metadata": {
        "id": "vWIuhuqWCwpR"
      }
    },
    {
      "cell_type": "markdown",
      "source": [
        "## **Teoria**"
      ],
      "metadata": {
        "id": "tpCYvNqOD76B"
      }
    },
    {
      "cell_type": "markdown",
      "source": [
        "A filtragem ORS (Optimal Robust Separator) é uma combinação de 2 filtros. Primeiro, é aplicado um filtro de mediana, que irá remover ruídos (alta frequência) e picos espúrios. Em seguida, é aplicado um filtro Gaussiano, que irá definir a superfície regional. O próximo passo é realizar a separação regional-residual, sendo a saída então o residual da batimetria.\n",
        "\n",
        "A largura do filtro de mediana deve corresponder à menor escala das feições geológicas que se deseja manter no residual (comprimento de onda mínimo). Aqui, foi observado o resultado ao longo de um perfil para escolher um valor que minimizasse os picos no assoalho oceânico.\n",
        "\n",
        "No caso do parâmetro de gaussiana, deve-se escolher uma medida que corresponda à largura média das estruturas geológicas consideradas como regionais."
      ],
      "metadata": {
        "id": "D3QSDYNNEWkB"
      }
    },
    {
      "cell_type": "markdown",
      "source": [
        "## **Parâmetros de entrada**\n",
        "\n"
      ],
      "metadata": {
        "id": "M62G6Ac1C_Dr"
      }
    },
    {
      "cell_type": "code",
      "source": [
        "filename = \"BR-DTM-REV2024.grd\"  # Nome do arquivo Grid Surfer v7\n",
        "median_width = 80  # Largura do filtro de mediana\n",
        "gaussian_width = 220  # Largura do filtro gaussiano"
      ],
      "metadata": {
        "id": "6Z5vDsNEi41x"
      },
      "execution_count": 1,
      "outputs": []
    },
    {
      "cell_type": "markdown",
      "source": [
        "# **1. Ambiente**"
      ],
      "metadata": {
        "id": "v4CLkpWSCuHy"
      }
    },
    {
      "cell_type": "code",
      "source": [
        "!apt-get install -y gdal-bin\n",
        "!pip install gdal\n",
        "!pip install crm"
      ],
      "metadata": {
        "colab": {
          "base_uri": "https://localhost:8080/"
        },
        "id": "EQTcWs5DjV2X",
        "outputId": "80b16074-c98f-499c-edbc-e9dc4dc9024b"
      },
      "execution_count": 4,
      "outputs": [
        {
          "output_type": "stream",
          "name": "stdout",
          "text": [
            "Reading package lists... Done\n",
            "Building dependency tree... Done\n",
            "Reading state information... Done\n",
            "gdal-bin is already the newest version (3.6.4+dfsg-1~jammy0).\n",
            "0 upgraded, 0 newly installed, 0 to remove and 22 not upgraded.\n",
            "Requirement already satisfied: gdal in /usr/local/lib/python3.11/dist-packages (3.6.4)\n",
            "Requirement already satisfied: crm in /usr/local/lib/python3.11/dist-packages (0.0.0)\n"
          ]
        }
      ]
    },
    {
      "cell_type": "code",
      "source": [
        "import numpy as np\n",
        "import matplotlib.pyplot as plt\n",
        "import scipy.ndimage as ndimage\n",
        "from scipy.ndimage import median_filter, gaussian_filter\n",
        "from osgeo import gdal\n",
        "\n",
        "\n",
        "# Função para carregar Grid Surfer\n",
        "def load_surfer_grid(filename):\n",
        "    dataset = gdal.Open(filename)\n",
        "    if dataset is None:\n",
        "        raise ValueError(\"Falha ao abrir o arquivo. Verifique o formato e o caminho do arquivo.\")\n",
        "    band = dataset.GetRasterBand(1)\n",
        "    bathymetry = band.ReadAsArray()\n",
        "    nodata_value = band.GetNoDataValue()\n",
        "\n",
        "    # Obtendo informações georreferenciadas\n",
        "    transform = dataset.GetGeoTransform()\n",
        "    print(transform)\n",
        "\n",
        "    # Criando máscara para valores válidos\n",
        "    mask = np.ones_like(bathymetry, dtype=bool)\n",
        "    if nodata_value is not None:\n",
        "        mask = bathymetry != nodata_value\n",
        "\n",
        "    return bathymetry, mask, transform\n",
        "\n",
        "\n",
        "# Função filtro ORS para valores válidos\n",
        "def apply_ors_filter(bathymetry, mask, median_width=10, gaussian_width=10):\n",
        "    '''\n",
        "    Função filtro ORS (Wessel, 2016, doi 10.1093/gji/ggv472) para valores válidos\n",
        "\n",
        "    Parâmetros:\n",
        "    -----------\n",
        "    median_width: int\n",
        "      define quantos pixels vizinhos serão considerados.\n",
        "    gaussian_width:\n",
        "      define a suavização (valores maiores, superfície mais lisa)\n",
        "    '''\n",
        "    filtered = np.copy(bathymetry)\n",
        "    filtered[~mask] = np.nan  # definir NaNs para ignorar no filtro\n",
        "\n",
        "    # Filtro de Mediana: substitui os valores centrais por uma mediana dos vizinhos\n",
        "    median_filtered = median_filter(np.nan_to_num(filtered, nan=np.nanmean(filtered)), size=median_width)\n",
        "\n",
        "    gaussian_filtered = gaussian_filter(median_filtered, sigma=gaussian_width)\n",
        "\n",
        "    # Restaurar valores NaN\n",
        "    gaussian_filtered[~mask] = np.nan\n",
        "    return median_filtered, gaussian_filtered\n",
        "\n",
        "# Função para separação Regional-Residual\n",
        "def regional_residual_separation(bathymetry, regional, mask):\n",
        "    residual = bathymetry - regional\n",
        "    residual[residual < 0] = 0  # truncar valores negativos\n",
        "    residual[~mask] = np.nan  # máscara para valores NoData\n",
        "    return residual"
      ],
      "metadata": {
        "id": "o3EAURiaDVpC"
      },
      "execution_count": 5,
      "outputs": []
    },
    {
      "cell_type": "markdown",
      "source": [
        "# **2. Filtragem**"
      ],
      "metadata": {
        "id": "seof35X4IM0P"
      }
    },
    {
      "cell_type": "code",
      "source": [
        "# Input\n",
        "bathymetry, mask, transform = load_surfer_grid(filename)\n",
        "\n",
        "# Filtro ORS\n",
        "median_filtered, regional = apply_ors_filter(bathymetry, mask, median_width, gaussian_width)\n",
        "residual = regional_residual_separation(bathymetry, regional, mask)\n",
        "\n",
        "# Plot dos resultados\n",
        "fig, axs = plt.subplots(1, 3, figsize=(15, 8))\n",
        "axs[0].imshow(bathymetry, cmap='terrain', origin='lower')\n",
        "axs[0].set_title(\"Batimetria Original\")\n",
        "axs[0].invert_yaxis()\n",
        "axs[1].imshow(regional, cmap='terrain', origin='lower')\n",
        "axs[1].set_title(\"Superfície Regional\")\n",
        "axs[1].invert_yaxis()\n",
        "axs[2].imshow(residual, cmap='terrain', origin='lower')\n",
        "axs[2].set_title(\"Topo Residual\")\n",
        "axs[2].invert_yaxis()\n",
        "plt.tight_layout()\n",
        "plt.show()\n"
      ],
      "metadata": {
        "colab": {
          "base_uri": "https://localhost:8080/"
        },
        "id": "fRQoMVMQjb7Q",
        "outputId": "2be75d25-756c-4733-9f69-90914c81e7c4"
      },
      "execution_count": null,
      "outputs": [
        {
          "output_type": "stream",
          "name": "stdout",
          "text": [
            "(-5941304.29982836, 1000.0, 0.0, 1224047.3785410495, 0.0, -1000.0)\n"
          ]
        }
      ]
    },
    {
      "cell_type": "code",
      "source": [
        "# Perfil\n",
        "chosen_lon = -3750000     # meridiano para o perfil\n",
        "\n",
        "# Função para extrair perfil ao longo de um meridiano escolhido\n",
        "def extract_meridian_profile(bathymetry, transform, lon):\n",
        "    x_origin, pixel_width, _, y_origin, _, pixel_height = transform\n",
        "    col_idx = int((lon - x_origin) / pixel_width)  # Converte a longitude para índice de coluna\n",
        "    return bathymetry[:, col_idx], np.arange(bathymetry.shape[0]) * pixel_height + y_origin\n",
        "\n",
        "original_profile, latitudes = extract_meridian_profile(bathymetry, transform, chosen_lon)\n",
        "median_profile, _ = extract_meridian_profile(median_filtered, transform, chosen_lon)\n",
        "regional_profile, _ = extract_meridian_profile(regional, transform, chosen_lon)\n",
        "residual_profile, _ = extract_meridian_profile(residual, transform, chosen_lon)\n",
        "\n",
        "# Plot do perfil\n",
        "plt.figure(figsize=(14, 5))\n",
        "plt.plot(latitudes, original_profile, label=\"Original\", linestyle='-', linewidth=1.5)\n",
        "plt.plot(latitudes, median_profile, label=\"Mediana\", linestyle='--', linewidth=1.5)\n",
        "plt.plot(latitudes, regional_profile, label=\"Regional\", linestyle='-.', linewidth=1.5)\n",
        "plt.plot(latitudes, residual_profile, label=\"Residual\", linestyle=':', linewidth=1.5)\n",
        "plt.xlabel(\"Y\")\n",
        "plt.ylabel(\"Profundidade (m)\")\n",
        "plt.legend()\n",
        "plt.title(f\"Perfil Batimétrico - X={chosen_lon}\")\n",
        "plt.grid()\n",
        "plt.show()"
      ],
      "metadata": {
        "id": "19jJumRtUXHo"
      },
      "execution_count": null,
      "outputs": []
    },
    {
      "cell_type": "markdown",
      "source": [
        "## **3. Arquivos de saída**"
      ],
      "metadata": {
        "id": "LaG59myCdNqB"
      }
    },
    {
      "cell_type": "code",
      "source": [
        "from osgeo import gdal, osr\n",
        "import numpy as np\n",
        "\n",
        "def save_surfer_grid(input_filename, output_filename, data):\n",
        "    \"\"\"Salva um array como um grid Surfer\"\"\"\n",
        "    # Abrir o arquivo original para obter metadados\n",
        "    dataset = gdal.Open(input_filename)\n",
        "    if dataset is None:\n",
        "        raise ValueError(\"Erro ao abrir o arquivo de entrada.\")\n",
        "\n",
        "    driver = gdal.GetDriverByName(\"GSBG\")  # GSBG é o formato binário do Surfer Grid v7\n",
        "    out_dataset = driver.Create(output_filename, dataset.RasterXSize, dataset.RasterYSize, 1, gdal.GDT_Float32)\n",
        "\n",
        "    if out_dataset is None:\n",
        "        raise ValueError(\"Erro ao criar o arquivo de saída.\")\n",
        "\n",
        "    # Copiar transformações georreferenciadas\n",
        "    out_dataset.SetGeoTransform(dataset.GetGeoTransform())\n",
        "    # Copiar sistema de coordenadas\n",
        "    out_dataset.SetProjection(dataset.GetProjection())\n",
        "    # Escrever os dados no novo arquivo\n",
        "    out_band = out_dataset.GetRasterBand(1)\n",
        "    out_band.WriteArray(data)\n",
        "    # Definir valor NoData\n",
        "    out_band.SetNoDataValue(np.nan)\n",
        "\n",
        "    # Salvar e fechar\n",
        "    out_band.FlushCache()\n",
        "    del out_dataset\n",
        "    print(f\"Grid de saída salvo como {output_filename}\")\n",
        "\n",
        "\n",
        "# Nomes dos arquivos\n",
        "regional_filename = filename.replace('.grd', '_ORSregional.grd')\n",
        "residual_filename = filename.replace('.grd', '_ORSresidual.grd')\n",
        "\n",
        "# Salvar os grids regional e residual, com base no grid de entrada\n",
        "save_surfer_grid(filename, regional_filename, regional)\n",
        "save_surfer_grid(filename, residual_filename, residual)\n",
        "\n",
        "from google.colab import files\n",
        "\n",
        "files.download(regional_filename)\n",
        "files.download(str(regional_filename+\".aux.xml\"))\n",
        "files.download(residual_filename)\n",
        "files.download(str(residual_filename+\".aux.xml\"))\n"
      ],
      "metadata": {
        "colab": {
          "base_uri": "https://localhost:8080/",
          "height": 54
        },
        "id": "bvR65YVUdMba",
        "outputId": "84347dcb-b3d9-4147-8418-d1460c6066f2"
      },
      "execution_count": null,
      "outputs": [
        {
          "output_type": "stream",
          "name": "stdout",
          "text": [
            "Grid de saída salvo como BR-DTM-REV2024_regional.grd\n",
            "Grid de saída salvo como BR-DTM-REV2024_residual.grd\n"
          ]
        },
        {
          "output_type": "display_data",
          "data": {
            "text/plain": [
              "<IPython.core.display.Javascript object>"
            ],
            "application/javascript": [
              "\n",
              "    async function download(id, filename, size) {\n",
              "      if (!google.colab.kernel.accessAllowed) {\n",
              "        return;\n",
              "      }\n",
              "      const div = document.createElement('div');\n",
              "      const label = document.createElement('label');\n",
              "      label.textContent = `Downloading \"${filename}\": `;\n",
              "      div.appendChild(label);\n",
              "      const progress = document.createElement('progress');\n",
              "      progress.max = size;\n",
              "      div.appendChild(progress);\n",
              "      document.body.appendChild(div);\n",
              "\n",
              "      const buffers = [];\n",
              "      let downloaded = 0;\n",
              "\n",
              "      const channel = await google.colab.kernel.comms.open(id);\n",
              "      // Send a message to notify the kernel that we're ready.\n",
              "      channel.send({})\n",
              "\n",
              "      for await (const message of channel.messages) {\n",
              "        // Send a message to notify the kernel that we're ready.\n",
              "        channel.send({})\n",
              "        if (message.buffers) {\n",
              "          for (const buffer of message.buffers) {\n",
              "            buffers.push(buffer);\n",
              "            downloaded += buffer.byteLength;\n",
              "            progress.value = downloaded;\n",
              "          }\n",
              "        }\n",
              "      }\n",
              "      const blob = new Blob(buffers, {type: 'application/binary'});\n",
              "      const a = document.createElement('a');\n",
              "      a.href = window.URL.createObjectURL(blob);\n",
              "      a.download = filename;\n",
              "      div.appendChild(a);\n",
              "      a.click();\n",
              "      div.remove();\n",
              "    }\n",
              "  "
            ]
          },
          "metadata": {}
        },
        {
          "output_type": "display_data",
          "data": {
            "text/plain": [
              "<IPython.core.display.Javascript object>"
            ],
            "application/javascript": [
              "download(\"download_3956cd73-a2f9-4efe-84f8-29c12703f1a3\", \"BR-DTM-REV2024_regional.grd.aux.xml\", 140)"
            ]
          },
          "metadata": {}
        },
        {
          "output_type": "display_data",
          "data": {
            "text/plain": [
              "<IPython.core.display.Javascript object>"
            ],
            "application/javascript": [
              "\n",
              "    async function download(id, filename, size) {\n",
              "      if (!google.colab.kernel.accessAllowed) {\n",
              "        return;\n",
              "      }\n",
              "      const div = document.createElement('div');\n",
              "      const label = document.createElement('label');\n",
              "      label.textContent = `Downloading \"${filename}\": `;\n",
              "      div.appendChild(label);\n",
              "      const progress = document.createElement('progress');\n",
              "      progress.max = size;\n",
              "      div.appendChild(progress);\n",
              "      document.body.appendChild(div);\n",
              "\n",
              "      const buffers = [];\n",
              "      let downloaded = 0;\n",
              "\n",
              "      const channel = await google.colab.kernel.comms.open(id);\n",
              "      // Send a message to notify the kernel that we're ready.\n",
              "      channel.send({})\n",
              "\n",
              "      for await (const message of channel.messages) {\n",
              "        // Send a message to notify the kernel that we're ready.\n",
              "        channel.send({})\n",
              "        if (message.buffers) {\n",
              "          for (const buffer of message.buffers) {\n",
              "            buffers.push(buffer);\n",
              "            downloaded += buffer.byteLength;\n",
              "            progress.value = downloaded;\n",
              "          }\n",
              "        }\n",
              "      }\n",
              "      const blob = new Blob(buffers, {type: 'application/binary'});\n",
              "      const a = document.createElement('a');\n",
              "      a.href = window.URL.createObjectURL(blob);\n",
              "      a.download = filename;\n",
              "      div.appendChild(a);\n",
              "      a.click();\n",
              "      div.remove();\n",
              "    }\n",
              "  "
            ]
          },
          "metadata": {}
        },
        {
          "output_type": "display_data",
          "data": {
            "text/plain": [
              "<IPython.core.display.Javascript object>"
            ],
            "application/javascript": [
              "download(\"download_0d74efa6-7eba-4096-be7e-08ab0717b9ec\", \"BR-DTM-REV2024_residual.grd.aux.xml\", 140)"
            ]
          },
          "metadata": {}
        }
      ]
    },
    {
      "cell_type": "code",
      "source": [
        "# prompt: download automático dos grid gerados na célula anterior\n",
        "\n",
        "from google.colab import files\n",
        "\n",
        "# Nomes dos arquivos\n",
        "regional_filename = filename.replace('.grd', '_regional.grd')\n",
        "residual_filename = filename.replace('.grd', '_residual.grd')\n",
        "\n",
        "# Baixar os arquivos\n",
        "files.download(regional_filename)\n",
        "files.download(residual_filename)\n"
      ],
      "metadata": {
        "id": "Ot_0heiZfWvZ"
      },
      "execution_count": null,
      "outputs": []
    }
  ]
}